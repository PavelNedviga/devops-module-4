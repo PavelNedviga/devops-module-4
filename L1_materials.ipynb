{
 "cells": [
  {
   "cell_type": "code",
   "execution_count": 1,
   "metadata": {},
   "outputs": [
    {
     "name": "stdout",
     "output_type": "stream",
     "text": [
      "The Zen of Python, by Tim Peters\n",
      "\n",
      "Beautiful is better than ugly.\n",
      "Explicit is better than implicit.\n",
      "Simple is better than complex.\n",
      "Complex is better than complicated.\n",
      "Flat is better than nested.\n",
      "Sparse is better than dense.\n",
      "Readability counts.\n",
      "Special cases aren't special enough to break the rules.\n",
      "Although practicality beats purity.\n",
      "Errors should never pass silently.\n",
      "Unless explicitly silenced.\n",
      "In the face of ambiguity, refuse the temptation to guess.\n",
      "There should be one-- and preferably only one --obvious way to do it.\n",
      "Although that way may not be obvious at first unless you're Dutch.\n",
      "Now is better than never.\n",
      "Although never is often better than *right* now.\n",
      "If the implementation is hard to explain, it's a bad idea.\n",
      "If the implementation is easy to explain, it may be a good idea.\n",
      "Namespaces are one honking great idea -- let's do more of those!\n"
     ]
    }
   ],
   "source": [
    "# Вывод на экран дзена Python\n",
    "import this"
   ]
  },
  {
   "cell_type": "markdown",
   "metadata": {},
   "source": [
    "# Простейшая программа \"Hello, World!\"\n",
    "\n",
    "`print(\"Hello, World!\")`\n",
    "\n",
    "Переменные\n",
    "Переменная – это величина, имеющая имя, тип и значение.\n",
    "Значение переменной можно изменять во время работы программы.\n",
    "В имени переменной МОЖНО использовать:\n",
    "- латинские буквы (A-Z, a-z)\n",
    "- русские буквы (не рекомендуется!)\n",
    "- цифры (Но имя не должно начинаться с цифры)\n",
    "- знак подчеркивания _\n",
    "\n",
    "`new_variable = \"Привет, Мир!\"`\n"
   ]
  },
  {
   "cell_type": "code",
   "execution_count": 2,
   "metadata": {},
   "outputs": [
    {
     "data": {
      "text/plain": [
       "['False',\n",
       " 'None',\n",
       " 'True',\n",
       " 'and',\n",
       " 'as',\n",
       " 'assert',\n",
       " 'async',\n",
       " 'await',\n",
       " 'break',\n",
       " 'class',\n",
       " 'continue',\n",
       " 'def',\n",
       " 'del',\n",
       " 'elif',\n",
       " 'else',\n",
       " 'except',\n",
       " 'finally',\n",
       " 'for',\n",
       " 'from',\n",
       " 'global',\n",
       " 'if',\n",
       " 'import',\n",
       " 'in',\n",
       " 'is',\n",
       " 'lambda',\n",
       " 'nonlocal',\n",
       " 'not',\n",
       " 'or',\n",
       " 'pass',\n",
       " 'raise',\n",
       " 'return',\n",
       " 'try',\n",
       " 'while',\n",
       " 'with',\n",
       " 'yield']"
      ]
     },
     "execution_count": 2,
     "metadata": {},
     "output_type": "execute_result"
    }
   ],
   "source": [
    "# Именем переменной не может быть одно из ключевых слов:\n",
    "import keyword\n",
    "keyword.kwlist"
   ]
  },
  {
   "cell_type": "markdown",
   "metadata": {},
   "source": [
    "# Типы переменных\n"
   ]
  },
  {
   "cell_type": "code",
   "execution_count": 3,
   "metadata": {},
   "outputs": [
    {
     "name": "stdout",
     "output_type": "stream",
     "text": [
      "4 <class 'int'>\n",
      "3.5 <class 'float'>\n",
      "Вася <class 'str'>\n",
      "True <class 'bool'>\n"
     ]
    }
   ],
   "source": [
    "\n",
    "# Целое число:\n",
    "a = 4\n",
    "print(a, type(a))\n",
    "\n",
    "# Вещественное число:\n",
    "b = 3.5\n",
    "print(b, type(b))\n",
    "\n",
    "# Символьная строка:\n",
    "s = \"Вася\"\n",
    "print(s, type(s))\n",
    "\n",
    "# Логическая:\n",
    "i = True\n",
    "print(i, type(i))\n"
   ]
  },
  {
   "cell_type": "code",
   "execution_count": 4,
   "metadata": {},
   "outputs": [
    {
     "name": "stdout",
     "output_type": "stream",
     "text": [
      "4\n",
      "5\n"
     ]
    }
   ],
   "source": [
    "# Тип определяет:\n",
    "# - область допустимых значений\n",
    "# - допустимые операции\n",
    "# - объём памяти\n",
    "# - формат хранения данных\n",
    "# Запись значения в переменную, оператор присваивания =\n",
    "a = 4\n",
    "print(a)\n",
    "# При записи нового значения старое удаляется:\n",
    "a = 5\n",
    "print(a)\n"
   ]
  },
  {
   "cell_type": "code",
   "execution_count": 5,
   "metadata": {},
   "outputs": [
    {
     "name": "stdout",
     "output_type": "stream",
     "text": [
      "\n"
     ]
    }
   ],
   "source": [
    "# Ввод значения с клавиатуры (встроенная функция input)\n",
    "a = input()\n",
    "b = input()\n",
    "# Математическая операция сложения +\n",
    "c = a + b\n",
    "# Вывод на экран значения переменной (встроенная функция print)\n",
    "print(c)\n"
   ]
  },
  {
   "cell_type": "code",
   "execution_count": 6,
   "metadata": {},
   "outputs": [
    {
     "ename": "SyntaxError",
     "evalue": "invalid syntax (339430138.py, line 19)",
     "output_type": "error",
     "traceback": [
      "\u001b[0;36m  Cell \u001b[0;32mIn[6], line 19\u001b[0;36m\u001b[0m\n\u001b[0;31m    Введите число: 1\u001b[0m\n\u001b[0m            ^\u001b[0m\n\u001b[0;31mSyntaxError\u001b[0m\u001b[0;31m:\u001b[0m invalid syntax\n"
     ]
    }
   ],
   "source": [
    "\n",
    "# Почему в выводе 12 а не 3?\n",
    "# Встроенная функция input возвращает тип данных str (символьная строка).\n",
    "# Мы можем преобразовать вводимое значение в число\n",
    "# Для этого воспользуемся встроенной функцией int:\n",
    "a = int(input())\n",
    "b = int(input())\n",
    "# Математическая операция сложения +\n",
    "c = a + b\n",
    "# Вывод на экран значения переменной (встроенная функция print)\n",
    "print(c)\n",
    "\n",
    "# В функции input() можно передать подсказку для ввода в качестве первого аргумента:\n",
    "a = int(input(\"Введите число: \"))\n",
    "b = int(input(\"Введите число: \"))\n",
    "# Математическая операция сложения +\n",
    "c = a + b\n",
    "# Вывод на экран значения переменной (встроенная функция print)\n",
    "print(\"Результат сложения: \", c)\n",
    "Введите число: 1\n",
    "Введите число: 2\n",
    "Результат сложения:  3\n",
    "# Для удобства вывод воспользуемся f-строкой:\n",
    "a = int(input(\"Введите число: \"))\n",
    "b = int(input(\"Введите число: \"))\n",
    "c = a + b\n",
    "print(f\"Результат сложения: {c}\")\n",
    "Введите число: 1\n",
    "Введите число: 2\n",
    "Результат сложения: 3\n",
    "# Ветвления\n",
    "# Ветвления позволяют менять порядок выполнения программы в зависимости от выполнения условия:\n",
    "a = int(input(\"Введите число: \"))\n",
    "if a > 3:\n",
    "    print(\"a больше чем 3\")\n",
    "Введите число: 4\n",
    "a больше чем 3\n",
    "a = int(input(\"Введите число: \"))\n",
    "if a > 3:\n",
    "    print(\"a больше чем 3\")\n",
    "Введите число: 1\n",
    "# Вывода не последовало, так как условие не выполнилось.\n",
    "# Для случая, когда условие не выполнено, воспользуемся else:\n",
    "a = int(input(\"Введите число: \"))\n",
    "if a > 3:\n",
    "    print(\"a больше чем 3\")\n",
    "else:\n",
    "    print(\"a меньше или равно 3\")\n",
    "Введите число: 2\n",
    "a меньше или равно 3\n",
    "# Ветвления можно собирать в более подробные конструкции при помощи elif:\n",
    "a = int(input(\"Введите число: \"))\n",
    "if a > 3:\n",
    "    print(\"a больше чем 3\")\n",
    "elif a == 3:\n",
    "    print(\"a равно 3\")\n",
    "else:\n",
    "    print(\"a меньше чем 3\")\n",
    "Введите число: 3\n",
    "a равно 3\n",
    "# Знаки отношений для проверки условий:\n",
    "# >, < - больше, меньше\n",
    "# >= - больше или равно\n",
    "# <= - меньше или равно\n",
    "# == - равно\n",
    "# != - не равно\n",
    "# Циклы\n",
    "# циклы позволяют повторять определенный кусок программного кода\n",
    "# Цикл с условием while\n",
    "# В цикле с условием проверка условия осуществляется на входе в цикл\n",
    "# Организуем проверку ввода числа при помощи метода isdigit, который доступен для символьных строк:\n",
    "\n",
    "name = input(\"Введите ваше имя: \")\n",
    "age = input(\"Введите возраст: \")\n",
    "\n",
    "while not age.isdigit():\n",
    "    print(\"Вводите возраст числом, пожалуйста\")\n",
    "    # обязательно обновляем значение age, иначе цикл будет повторяться бесконечно (программу потребуется остановить)\n",
    "    age = input(\"Введите возраст: \")\n",
    "\n",
    "print(f\"Вас зовут {name}\")\n",
    "Введите ваше имя: Евгений\n",
    "Введите возраст: 35\n",
    "Вас зовут Евгений\n",
    "# Добавим условия для вывода сообщения о возрасте:\n",
    "name = input(\"Введите ваше имя: \")\n",
    "age = input(\"Введите возраст: \")\n",
    "\n",
    "while not age.isdigit():\n",
    "    print(\"Вводите возраст числом, пожалуйста\")\n",
    "    # обязательно обновляем значение age, иначе цикл будет повторяться бесконечно (программу потребуется остановить)\n",
    "    age = input(\"Введите возраст: \")\n",
    "\n",
    "\n",
    "# метод endswith проверяет последний символ(символы), startswith проверяет начало строки\n",
    "if age.endswith(\"1\"):\n",
    "    print(f\"Вау, мне тоже {age} год\")\n",
    "elif age.startswith(\"1\") and len(age) == 2:\n",
    "    # встроенная функция len считает число символов в строке\n",
    "    print(f\"Вау, мне тоже {age} лет\")\n",
    "elif age.endswith((\"2\", \"3\", \"4\")):\n",
    "    print(f\"Вау, мне тоже {age} года\")\n",
    "else:\n",
    "    print(f\"Вау, мне тоже {age} лет\")\n",
    "    \n",
    "print(f\"Вас зовут {name}\")\n",
    "Введите ваше имя: Евгений\n",
    "Введите возраст: 35\n",
    "Вау, мне тоже 35 лет\n",
    "Вас зовут Евгений\n",
    "# Задания для самостоятельного выполнения:\n",
    "#\n",
    "# Задание 1\n",
    "# Создайте две переменных и введите в них данные с клавиатуры. \n",
    "# Напишите простейший калькулятор, который умножает, делит, складывает, вычитает эти два числа, \n",
    "# выведите результаты на экран.\n",
    "#\n",
    "# Задание 2\n",
    "# Пользователь вводит число. Выведите на экран десятичное, двоичное, \n",
    "# восьмеричное и шестнадцатеричное представление этого числа с помощью функций bin(), oct(), hex().\n",
    "#\n",
    "# Задание 3\n",
    "# Пользователь вводит три числа а, b, с. Создайте переменную f, \n",
    "# в которую запишите результат выражения: (а * b) + (a * c). Выведите f на экран.\n",
    "#\n",
    "# Задание 4\n",
    "# Создайте две символьных переменных а и b. Занесите в них слова \"Вторник\" и \"Понедельник\". \n",
    "# Выведите слова так, чтобы понедельник шёл перед вторником и между ними находилась запятая с пробелом (\", \")\n",
    "#\n",
    "# Задание 5\n",
    "# Спросите у пользователя имя, возраст, место проживания и страну проживания. \n",
    "# Оформите вывод таким образом:\n",
    "# 'Уважаемый ИМЯ! На сегодняшний день Вы проживаете в стране СТРАНА, в городе \n",
    "# МЕСТО _ПРОЖИВАНИЯ, И ВЫ родились в 'ТАКОМ _ТО _ГОДУ''."
   ]
  },
  {
   "cell_type": "code",
   "execution_count": null,
   "metadata": {},
   "outputs": [],
   "source": []
  }
 ],
 "metadata": {
  "kernelspec": {
   "display_name": "Python 3",
   "language": "python",
   "name": "python3"
  },
  "language_info": {
   "codemirror_mode": {
    "name": "ipython",
    "version": 3
   },
   "file_extension": ".py",
   "mimetype": "text/x-python",
   "name": "python",
   "nbconvert_exporter": "python",
   "pygments_lexer": "ipython3",
   "version": "3.12.0"
  }
 },
 "nbformat": 4,
 "nbformat_minor": 2
}
